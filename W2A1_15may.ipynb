{
 "cells": [
  {
   "attachments": {},
   "cell_type": "markdown",
   "metadata": {},
   "source": [
    "ans 1) Using # or ''' we can write comment in python, types:\n",
    "        # - for single line comment\n",
    "        ''' comment ''' - for multiline comment\n",
    "        \n",
    "ans 2) variables are used to assign values of different data types and we can declare empty variable inisially and then assign value or we can directly assign values at the time of use.      \n",
    "\n",
    "ans 3) by typecasting we can convert one data type to another in Python\n",
    "\n",
    "ans 4) using (python \"file_name.py\")\n",
    "\n",
    "ans 5) sub_list=my_list[1:3]\n",
    "\n",
    "ans 6)  representation -> X+jY\n",
    " \n",
    "ans 7) age=25\n",
    "\n",
    "ans 8) price=9.99, float datatype\n",
    "\n",
    "ans 9) name=\"Sumiran Gupta\"\n",
    "       print(name)\n",
    "       \n",
    "ans 10) string = \"Hello, World!\"\n",
    "        print(string[7:]) \n",
    "\n",
    "ans 11) x=\"is_student\" \n",
    "        if x==\"is_student\":\n",
    "            print(True)\n",
    "        else:\n",
    "            print(False)                 "
   ]
  }
 ],
 "metadata": {
  "language_info": {
   "name": "python"
  },
  "orig_nbformat": 4
 },
 "nbformat": 4,
 "nbformat_minor": 2
}
